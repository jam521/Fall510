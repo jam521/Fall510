{
 "cells": [
  {
   "cell_type": "markdown",
   "metadata": {},
   "source": [
    "## Polygon Area and Perimeter "
   ]
  },
  {
   "cell_type": "code",
   "execution_count": 83,
   "metadata": {
    "collapsed": false
   },
   "outputs": [
    {
     "name": "stdout",
     "output_type": "stream",
     "text": [
      "8.0\n",
      "4.0\n",
      "11.21110255092798\n",
      "6.0\n"
     ]
    }
   ],
   "source": [
    "import math #We will use the math package to find the square root of certain numbers below. \n",
    "\n",
    "def polygperim(coords):\n",
    "    \"\"\"\n",
    "    The polygperim function takes in a list of number pairs as an input. These number pairs can either be lists \n",
    "    or tuples, and represent the vertices of a polygon. The function returns the perimeter of the polygon \n",
    "    represented by the coords list as an output. \n",
    "    \"\"\"\n",
    "    perim = 0 #Creates a variable perim which will be added to and returned as the output. \n",
    "    for i in range(len(coords)-1): #Goes through every element of coords besides the last one. \n",
    "        perim += (((coords[i][0] - coords[i-1][0])**2)+((coords[i][1] - coords[i-1][1])**2))**.5 #Figures out the \n",
    "        #distance between the ith point and the i+1th point. Adds the result to our variable perim. \n",
    "    perim += math.sqrt(((coords[-1][0] - coords[0][0])**2)+((coords[-1][1] - coords[0][1])**2)) \n",
    "    #Our loop did not add the distance between our first and last point. This line does that. \n",
    "    return perim #Returns the perimeter of our polygon as the output. \n",
    "\n",
    "        \n",
    "def polygarea(coords):\n",
    "    \"\"\"\n",
    "    The polygarea function takes a list of point pairs (as in the polygperim function) as input, and returns \n",
    "    the area of the polygon indicated by those coordinates as output. The function uses a formula derived from \n",
    "    Green's theorem (provided in the test prompt) in order to calculate the area.\n",
    "    \"\"\"\n",
    "    area = 0.0 #Defines a variable area, which will be added to and returned as the result. \n",
    "    for i in range(len(coords)-1): #Goes through every pair of points in coords except the last. \n",
    "        area += abs(.5*(coords[i][0]*coords[i+1][1] - coords[i+1][0]*coords[i][1])) #Puts that pair of points, and \n",
    "        #the pair following it in coords, into the Green's theorem summation, and adds the result to area. \n",
    "    area += abs(.5*(coords[-1][0]*coords[0][1] - coords[-1][0]*coords[0][1])) #Then puts the first and last point\n",
    "    #pair into the Green's theorem summation and adds the result to area. \n",
    "    return area #Returns area as a result. \n",
    "\n",
    "x = [[0,0],[0,2],[2,2],[2,0]] #Here we test our two functions on a square\n",
    "triangle = [[0,0],[4,0],[2,3]] #and a triangle. \n",
    "\n",
    "print(polygperim(x))\n",
    "print(polygarea(x))\n",
    "\n",
    "polygperim(triangle)\n",
    "print(polygperim(triangle))\n",
    "print(polygarea(triangle))"
   ]
  },
  {
   "cell_type": "code",
   "execution_count": null,
   "metadata": {
    "collapsed": false
   },
   "outputs": [],
   "source": []
  },
  {
   "cell_type": "code",
   "execution_count": null,
   "metadata": {
    "collapsed": true
   },
   "outputs": [],
   "source": []
  }
 ],
 "metadata": {
  "kernelspec": {
   "display_name": "Python 3",
   "language": "python",
   "name": "python3"
  },
  "language_info": {
   "codemirror_mode": {
    "name": "ipython",
    "version": 3
   },
   "file_extension": ".py",
   "mimetype": "text/x-python",
   "name": "python",
   "nbconvert_exporter": "python",
   "pygments_lexer": "ipython3",
   "version": "3.4.3"
  }
 },
 "nbformat": 4,
 "nbformat_minor": 0
}
