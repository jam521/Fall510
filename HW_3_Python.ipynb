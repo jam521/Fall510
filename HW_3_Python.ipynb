{
 "cells": [
  {
   "cell_type": "markdown",
   "metadata": {},
   "source": [
    "## 1. histogram( )"
   ]
  },
  {
   "cell_type": "code",
   "execution_count": 5,
   "metadata": {
    "collapsed": false
   },
   "outputs": [],
   "source": [
    "def histogram(a):\n",
    "    \"\"\"\n",
    "    The histogram function takes a list of integers a as an input, and prints a\n",
    "    histogram as an output. Each element of a corresponds to a bar of the histogram. \n",
    "    Any bar of the histogram will have as many '*'s as its corresponding element. \n",
    "    \"\"\"\n",
    "    for i in a: #Goes through each integer i in a. \n",
    "        print('*'*i) #For every integer, prints i '*'s. "
   ]
  },
  {
   "cell_type": "markdown",
   "metadata": {},
   "source": [
    "## 2. max_in_list( ) "
   ]
  },
  {
   "cell_type": "code",
   "execution_count": 1,
   "metadata": {
    "collapsed": false
   },
   "outputs": [],
   "source": [
    "def max_in_list(a):\n",
    "    \"\"\"\n",
    "    The max_in_list function takes a list of numbers a as the input and returns as the output \n",
    "    the largest one. \n",
    "    \"\"\"\n",
    "    compare_to = a[0] #Sets the variable compare_to equal to the first number in a. \n",
    "    for i in a: #Goes through every number in a and compares it to the last number in the list. \n",
    "        if compare_to < i: #If the first number in the list is found to be smaller than any other\n",
    "            #number in a\n",
    "            return max_in_list(a[1:]) #we run the function again with the first number removed from a.\n",
    "                                 #In other words, we see if the first number in a is the \n",
    "                                 #largest number in the list. If not, we see if the number \n",
    "                                 #following it is, and so on. \n",
    "    return a[0] #Once we find the largest member of a, we return it as the output. "
   ]
  },
  {
   "cell_type": "markdown",
   "metadata": {},
   "source": [
    "## 3. length_of_words( )"
   ]
  },
  {
   "cell_type": "code",
   "execution_count": 19,
   "metadata": {
    "collapsed": false
   },
   "outputs": [],
   "source": [
    "def length_of_words(a):\n",
    "    \"\"\"\n",
    "    The length_of_words function takes a list of words a as an input, and returns a list \n",
    "    of integers corresponding to the length of those words.\n",
    "    \"\"\"\n",
    "    integers = [] #Creates a list called integers which will ultimately be returned as output.\n",
    "    for i in a: #Goes through each word in a. \n",
    "        integers += [len(i)] #Adds the length of each word in a to the list integers. \n",
    "    return integers #Returns the appended list integers as the output. "
   ]
  },
  {
   "cell_type": "markdown",
   "metadata": {},
   "source": [
    "## 4. find_longest_word( )"
   ]
  },
  {
   "cell_type": "code",
   "execution_count": 21,
   "metadata": {
    "collapsed": false
   },
   "outputs": [
    {
     "data": {
      "text/plain": [
       "8"
      ]
     },
     "execution_count": 21,
     "metadata": {},
     "output_type": "execute_result"
    }
   ],
   "source": [
    "def find_longest_word(b):\n",
    "    \"\"\"\n",
    "    The find_longest_word function takes a list of words a as an input and returns the \n",
    "    length of the longest word as an output. \n",
    "    \"\"\"\n",
    "    integers = length_of_words(b) #Utilizes the previously defined length_of_words function\n",
    "    #to create a variable integer. integer is set to a list of the lengths of the words \n",
    "    #in b. \n",
    "    return max_in_list(integers) #Utilizes the previously defined max_in_list function\n",
    "    #to return the largest value in the integers list. This value is equal to the length \n",
    "    #of the longest word in b. \n",
    "\n",
    "find_longest_word(['blah','computer','exp'])"
   ]
  },
  {
   "cell_type": "markdown",
   "metadata": {
    "collapsed": true
   },
   "source": [
    "## 5. filter_long_words( )"
   ]
  },
  {
   "cell_type": "code",
   "execution_count": 3,
   "metadata": {
    "collapsed": false
   },
   "outputs": [],
   "source": [
    "def filter_long_words(words, n):\n",
    "    \"\"\"\n",
    "    The filter long words function takes a list of words (words), and an integer (n) as \n",
    "    inputs. All items in words longer than n are returned in a list. \n",
    "    \"\"\"\n",
    "    tbr = [] #Creates a list tbr (to be returned) that will be appended and returned as output.\n",
    "    index = 0 #Sets a variable index = 0. This will be important later. \n",
    "    for i in words: #Goes through every word in our list. \n",
    "        if len(i) >= n: #If the word is longer than our cutoff value n,\n",
    "            tbr.insert(index, i) #We insert that word into our tbr list at index i. \n",
    "            index += 1 #We increase the value of the index by 1. This means that if we have \n",
    "            #to insert another word, it will not overwrite the previous one. \n",
    "    return tbr #Returns our list of words longer than n characters.             "
   ]
  },
  {
   "cell_type": "markdown",
   "metadata": {},
   "source": [
    "## 6. long_palindrome( )"
   ]
  },
  {
   "cell_type": "code",
   "execution_count": 65,
   "metadata": {
    "collapsed": false
   },
   "outputs": [],
   "source": [
    "def long_palindrome(n):\n",
    "    \"\"\"\n",
    "    The long_palindrome function takes in a string n as input. If the string is a palindrome, \n",
    "    then the function returns True. Otherwise, it returns False. Capitalization, spacing, \n",
    "    and punctuation are ignored when determining whether a string is a palindrome. \n",
    "    \"\"\"\n",
    "    get_rid_of = [\".\",\",\",\" \",\"!\",\"?\",\":\",\";\"] #Creates a list of characters we do not want\n",
    "    #to take into account when determining whether n is a palindrome. These characters include\n",
    "    #various forms of punctuation, and a space. \n",
    "    no_punctuation = \"\" #Creates an empty string called no_punctuation. \n",
    "    for i in n: #Goes through every character in n. \n",
    "        if i not in get_rid_of: #If any character is deemed not to be a punctuation or a space\n",
    "            no_punctuation += i #it is added to our string no_punctuation. \n",
    "    capitalized = no_punctuation.upper() #Capitalizes every character in our punctuation-less\n",
    "    #string. This will allow us to determine whether the string is a palindrome without \n",
    "    #taking into account capitalization of characters. \n",
    "    reverse = \"\" #Creates an empty string revere. \n",
    "    for i in capitalized: #Goes through every letter in our capitalized string and \n",
    "        reverse = i + reverse #adds it to the front of our reverse string. This makes the \n",
    "        #string reverse the backwards form of our capitalized string. \n",
    "    return reverse == capitalized #Since both our reversed string and our capitalized string\n",
    "    #do not include punctuation, spaces, or lowercase letters, we can compare them and \n",
    "    #determine whether n is a palindrome. This returns True or False accordingly.             "
   ]
  },
  {
   "cell_type": "markdown",
   "metadata": {},
   "source": [
    "## 7. pangram( )"
   ]
  },
  {
   "cell_type": "code",
   "execution_count": 74,
   "metadata": {
    "collapsed": false
   },
   "outputs": [],
   "source": [
    "def pangram(n):\n",
    "    \"\"\"\n",
    "    The function pangram takes a sentence n as an input. If the sentence is a pangram (I.E.\n",
    "    it contains every letter in the alphabet) the function returns True. Otherwise, it \n",
    "    returns False. \n",
    "    \"\"\"\n",
    "    alphabet = ['a','b','c','d','e','f','g','h','i','j','k','l','m','n','o','p','q','r','s','t'\n",
    "               ,'u','v','w','x','y','z'] #Creates a list of all 26 letters titled alphabet.\n",
    "    for i in alphabet: #Goes through every letter in the alphabet.\n",
    "        if i not in n: #If the letter is not in n, then the function returns False. \n",
    "            return False\n",
    "    return True #If the loop makes it through every letter in the alphabet without returning \n",
    "    #False, then we know that n is a pangram and can return True. "
   ]
  },
  {
   "cell_type": "markdown",
   "metadata": {},
   "source": [
    "## 8. bottles_of_coke( )"
   ]
  },
  {
   "cell_type": "code",
   "execution_count": 4,
   "metadata": {
    "collapsed": false
   },
   "outputs": [],
   "source": [
    "def bottles_of_coke(n):\n",
    "    \"\"\"\n",
    "    The bottles_of_coke function takes in a number n as an input and returns the lyrics \n",
    "    of the song '99 bottles of coke' starting at n and descending to 0. For instance, \n",
    "    if n = 99, the function returns the string\n",
    "    \n",
    "    99 bottles of coke on the wall, 99 bottles of coke. \n",
    "    Take one down, pass it around, 98 bottles of coke on the wall. \n",
    "    \n",
    "    98 bottles of coke on the wall, 99 bottles of coke. \n",
    "    Take one down, pass it around, 97 bottles of coke on the wall. \n",
    "    \n",
    "    and so on, until there are no more bottles of coke on the wall. \n",
    "    \"\"\"\n",
    "    while n > 2: #As long as we have not sunk below 2 bottles of coke, it prints our song.\n",
    "        #The second line of the song is changed to account for the bottle of coke removed\n",
    "        #from the wall. \n",
    "        print((str(n)+' bottles of coke on the wall, '+str(n)+' bottles of coke.')) \n",
    "        print('Take one down, pass it around, ' + str(n-1) +' bottles of coke on the wall.')\n",
    "        n = n-1 #Gets rid of a bottle of coke, and continues to do so until we reach one \n",
    "        #bottle. \n",
    "    print('1 bottle of coke on the wall, 1 bottle of coke.') #When we get to our last bottle,\n",
    "    print('Take one down, pass it around, no more bottles of coke on the wall.') #this sings\n",
    "    #the last line of our song. "
   ]
  },
  {
   "cell_type": "markdown",
   "metadata": {},
   "source": [
    "## 9. translate( )"
   ]
  },
  {
   "cell_type": "code",
   "execution_count": 1,
   "metadata": {
    "collapsed": false
   },
   "outputs": [],
   "source": [
    "Swedish={\"merry\":\"god\",\"christmas\":\"jul\",\"and\":\"och\",\"happy\":\"gott\",\"new\":\"nytt\",\"year\":\"år\"}\n",
    "#This is a dictionary listing several English words and their Swedish counterparts. \n",
    "\n",
    "def translate(words):\n",
    "    \"\"\"\n",
    "    The translate function takes a list of English words as its input and returns \n",
    "    a list of those words translated into Swedish (assuming the translations are \n",
    "    included in the already defined Swedish dictionary.)\n",
    "    \"\"\"\n",
    "    return_list = [] #Creates an empty list which will be appended and returned as output.\n",
    "    for i in words: #Goes through every word in our input list. \n",
    "        return_list.insert(0,Swedish[i]) #Adds the Swedish translation of each word (found in\n",
    "        #the dictionary) to the beginning of our return_list.\n",
    "    return return_list #Prints our appended return list.       "
   ]
  },
  {
   "cell_type": "markdown",
   "metadata": {
    "collapsed": true
   },
   "source": [
    "## 10. char_freq( )"
   ]
  },
  {
   "cell_type": "code",
   "execution_count": 18,
   "metadata": {
    "collapsed": false
   },
   "outputs": [],
   "source": [
    "def char_freq(l):\n",
    "    \"\"\"\n",
    "    The char_freq function takes a string l as an input and returns a dictionary as an output.\n",
    "    The outputed dictionary indicates the frequency of every character found in list l. \n",
    "    \"\"\"\n",
    "    d = {} #Creates an empty dictionary, which will be appended and returned as the output. \n",
    "    for i in l: #Goes through every character in our list l. \n",
    "        if i not in d: #If a character is not in the dictionary already, \n",
    "            d[i] = 1 #Adds it to the dictionary with the value 1 (indicating it has occurred\n",
    "            #once so far in l.)\n",
    "        else: #If i has already been added to the dictionary,\n",
    "            d[i] += 1 #adds 1 to the value of i, indicating it has occurred once more. \n",
    "    return d #Returns our dictionary as the output of the function. "
   ]
  },
  {
   "cell_type": "markdown",
   "metadata": {},
   "source": [
    "## 11. ROT_13( )"
   ]
  },
  {
   "cell_type": "code",
   "execution_count": 25,
   "metadata": {
    "collapsed": false
   },
   "outputs": [
    {
     "data": {
      "text/plain": [
       "'Caesar cipher? I much prefer Caesar salad!'"
      ]
     },
     "execution_count": 25,
     "metadata": {},
     "output_type": "execute_result"
    }
   ],
   "source": [
    "def ROT_13(s):\n",
    "    \"\"\"\n",
    "    The ROT_13 function takes a string s as an input and returns the string deciphered using\n",
    "    Caesar's ciphering method, with a rotation of 13 places. This means that each letter of \n",
    "    s is assumed to symbolize the letter coming 13 places later than it in the alphabet. \n",
    "    \"\"\"\n",
    "    key = {'a':'n','b':'o','c':'p','d':'q','e':'r','f':'s','g':'t','h':'u',\n",
    "          'i':'v','j':'w','k':'x','l':'y','m':'z','n':'a','o':'b','p':'c',\n",
    "          'q':'d','r':'e','s':'f','t':'g','u':'h','v':'i','w':'j','x':'k',\n",
    "          'y':'l','z':'m','A':'N','B':'O','C':'P','D':'Q','E':'R','F':'S','G':'T','H':'U',\n",
    "          'I':'V','J':'W','K':'X','L':'Y','M':'Z','N':'A','O':'B','P':'C',\n",
    "          'Q':'D','R':'E','S':'F','T':'G','U':'H','V':'I','W':'J','X':'K',\n",
    "          'Y':'L','Z':'M',} #Creates a dictionary key which we will use\n",
    "    #to decode the message we input. \n",
    "    to_return = \"\" #Creates a string which will be appended and returned.\n",
    "    for i in s: #Goes through every character in our string s. \n",
    "        if i in key: #If a character from our string is in the dictionary, \n",
    "            to_return += key[i] #we add the decoded version of it to our return string.\n",
    "        else: #If a character is not in the dictionary, \n",
    "            to_return += i #we add it to our return string. This accounts\n",
    "            #for punctuation and spaces, which we do not need to translate.\n",
    "    return(to_return) #Returns our translated string. \n",
    "\n",
    "ROT_13('Pnrfne pvcure? V zhpu cersre Pnrfne fnynq!')"
   ]
  },
  {
   "cell_type": "markdown",
   "metadata": {},
   "source": [
    "## 12. correct( )"
   ]
  },
  {
   "cell_type": "code",
   "execution_count": 59,
   "metadata": {
    "collapsed": false
   },
   "outputs": [
    {
     "data": {
      "text/plain": [
       "'as fasfd. asdf'"
      ]
     },
     "execution_count": 59,
     "metadata": {},
     "output_type": "execute_result"
    }
   ],
   "source": [
    "def correct(s):\n",
    "    \"\"\"\n",
    "    The correct function takes a string s as input and operates returns\n",
    "    a corrected version of that string as output. The corrected strings \n",
    "    have removed extra spaces between words, and have added spaces in\n",
    "    the instance that a period is immediately followed by a \n",
    "    letter. The function works by running the string s through two nested \n",
    "    functions, remove_spaces, and fix_periods.\n",
    "    \n",
    "    The remove_spaces function takes in a string s as input. It then seeks \n",
    "    out instances where s contains more than one space in a row, and \n",
    "    returns a corrected string where the surplus spaces have been removed. \n",
    "    \n",
    "    The fix_periods function also takes in a string s as input. It then \n",
    "    seeks out instances where s contains a period followed immediately by \n",
    "    a letter and returns a corrected string with a space added between them.    \n",
    "    \"\"\"\n",
    "    def remove_spaces(s):\n",
    "        lessspaces = '' #Creates an empty string which will be appended and returned \n",
    "        #as the corrected version of s. \n",
    "        for i in list(range(len(s))): #Creates a list of numbers from 0 to len(s) - 1. \n",
    "            #We will use these to cycle through our input s. \n",
    "            if s[i] == ' ' and s[i+1] == ' ': #If we find an instance in s where a space \n",
    "                #is followed by another space, we do not add the first space to \n",
    "                #lessspaces. \n",
    "                lessspaces = lessspaces #(i.e. lessspaces stays the same.)\n",
    "            else: #In any other case we want to add our current character in s to lessspaces.\n",
    "                lessspaces += s[i]\n",
    "        return lessspaces #We then return our corrected string lessspaces as the output. \n",
    "\n",
    "    def fix_periods(s):\n",
    "        add_space = '' #Creates an empty string which will be appended and returned \n",
    "        #as the corrected version of s. \n",
    "        for i in list(range(len(s))): #Creates a list of numbers from 0 to len(s) - 1. \n",
    "            #We will use these to cycle through our input s. \n",
    "            if s[i] != ' ' and s[i-1] == '.': #If we find an instance in s where something\n",
    "                #other than a space follows immediately after a period, \n",
    "                add_space += ' ' #we want to add a space between the period and that \n",
    "                add_space += s[i] #character. \n",
    "            else: #In any other case, we want to add our current character in s to \n",
    "                add_space += s[i] #our corrected string. \n",
    "        return add_space #Returns our corrected string add_space as the output. \n",
    "    \n",
    "    return remove_spaces(fix_periods(s)) #This runs our input string s through both \n",
    "    #the remove_spaces and fix_periods function, returning a corrected string as output. \n",
    "\n",
    "    \n",
    "correct('as  fasfd.asdf')\n",
    "        "
   ]
  },
  {
   "cell_type": "markdown",
   "metadata": {
    "collapsed": true
   },
   "source": [
    "## 13. make_3sg_form( )"
   ]
  },
  {
   "cell_type": "code",
   "execution_count": 15,
   "metadata": {
    "collapsed": false
   },
   "outputs": [],
   "source": [
    "def make_3sg_form(s):\n",
    "    \"\"\"\n",
    "    The make_3sg_form function takes a string s as an input. The string s is assumed to be \n",
    "    an infinitive verb. The function attempts to return the third person singular version \n",
    "    of that verb by using the suffix of the word s to apply the appropriate ending. \n",
    "    \"\"\"\n",
    "    if s.endswith('y'): #If s ends with 'y', returns s with 'ies' in place of 'y'.\n",
    "        return s[:-1] + 'ies'\n",
    "    if s.endswith('o') or s.endswith('s') or s.endswith('x') or s.endswith('z') or s.endswith('ch') or s.endswith('sh'):\n",
    "        return s + 'es' #If s ends with any of the suffixes above, returns s + 'es'.\n",
    "    else:\n",
    "        return s + 's' #For all other words, will return s with the letter 's' added to the end. "
   ]
  },
  {
   "cell_type": "markdown",
   "metadata": {
    "collapsed": false
   },
   "source": [
    "## 14. make_ing_form( )"
   ]
  },
  {
   "cell_type": "code",
   "execution_count": 23,
   "metadata": {
    "collapsed": false
   },
   "outputs": [],
   "source": [
    "def make_ing_form(s):\n",
    "    \"\"\"\n",
    "    The make_ing_form function takes a string s as an input and attempts toconvert \n",
    "    it to present participle form. It does this by looking at the ending of s and \n",
    "    creating a new string based on s accordingly. \n",
    "    \"\"\"\n",
    "    vowel = ['a', 'e', 'i', 'o', 'u'] #Creates a list of vowels which will be used later.    \n",
    "    if s.endswith('ie'): #If s ends with 'ie', returns s with 'ying' in place of 'ie'.\n",
    "        return s[:-2] + 'ying'\n",
    "    if s.endswith('e'): #If s ends with 'e', returns s with 'ies' in places of 'e'.\n",
    "        return s[:-1] + 'ies'\n",
    "    if len(s) == 3 and s[0] not in vowel and s[1] in vowel and s[2] not in vowel:\n",
    "        #If s is only three letters, and consists of a vowel in between two consonants, \n",
    "        #returns s without the last letter, and with 'ing' added to the end. \n",
    "        #The function determines whether each letter is a vowel or a consonant by \n",
    "        #seeing whether the first, second, and third letters are in the vowel \n",
    "        #list. \n",
    "        return s + s[-1] + 'ing'\n",
    "    else:\n",
    "        return s + 'ing' #If fails to meet any of the conditions, will default to \n",
    "        #adding 'ing'. "
   ]
  },
  {
   "cell_type": "code",
   "execution_count": null,
   "metadata": {
    "collapsed": true
   },
   "outputs": [],
   "source": []
  }
 ],
 "metadata": {
  "kernelspec": {
   "display_name": "Python 3",
   "language": "python",
   "name": "python3"
  },
  "language_info": {
   "codemirror_mode": {
    "name": "ipython",
    "version": 3
   },
   "file_extension": ".py",
   "mimetype": "text/x-python",
   "name": "python",
   "nbconvert_exporter": "python",
   "pygments_lexer": "ipython3",
   "version": "3.4.3"
  }
 },
 "nbformat": 4,
 "nbformat_minor": 0
}
