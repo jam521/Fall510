{
 "cells": [
  {
   "cell_type": "markdown",
   "metadata": {},
   "source": [
    "## 1. fib( )"
   ]
  },
  {
   "cell_type": "code",
   "execution_count": 11,
   "metadata": {
    "collapsed": false
   },
   "outputs": [],
   "source": [
    "def fib(n):\n",
    "    \"\"\"\n",
    "    The Fibonacci sequence starts with the numbers 0 and 1. From then on,\n",
    "    every number in the sequence is the sum of the two numbers before it. \n",
    "    The result looks something like this:\n",
    "    \n",
    "    0, 1, 1, 2, 3, 5, 8, 13, 21, 34...\n",
    "    \n",
    "    The function fib takes in the number n as a parameter, and returns \n",
    "    a list of all Fibonacci numbers that are smaller than n. \n",
    "    \"\"\"\n",
    "    \n",
    "    fiblist = [0] #Creates a variable fiblist, which is what \n",
    "    #will ultimately be returned as an output of the function. We will\n",
    "    #gradually enlarge the fiblist to include all Fibonacci numbers < n. \n",
    "    \n",
    "    if n<=1:            #In the case that our input is <=1, the only Fibonacci number \n",
    "        print(fiblist)  #smaller than n is 0, so we can return fiblist = [0].\n",
    "    else:               \n",
    "        fiblist = [0,1,1] #If n > 1, at least the first three numbers of the Fibonacci \n",
    "        #sequence, [0, 1, 1] will be smaller than n, so we enlarge \n",
    "        #fiblist accordingly. \n",
    "        \n",
    "        while fiblist[-1] + fiblist[-2] <n: #Makes sure that the next Fibonacci number #is <n. \n",
    "            fiblist += [fiblist[-1]+fiblist[-2]] #Adds the next number to fiblist. \n",
    "        \n",
    "        print(fiblist) #Once the while condition ceases to hold, we know that the last \n",
    "        #Fibonacci number on our list is the final one before we reach n. Therefore we\n",
    "        #can print fiblist. "
   ]
  },
  {
   "cell_type": "markdown",
   "metadata": {},
   "source": [
    "## 2. mymax( ) "
   ]
  },
  {
   "cell_type": "code",
   "execution_count": 12,
   "metadata": {
    "collapsed": true
   },
   "outputs": [],
   "source": [
    "def mymax(x, y):\n",
    "    \"\"\"\n",
    "    The mymax function takes two numbers x and y as parameters and \n",
    "    returns the largest of them\n",
    "    \"\"\"\n",
    "    if x > y: #If x is the largest of the two, x is returned. \n",
    "        return x \n",
    "    else: #If x is the smallest number, or if x=y, y is returned. \n",
    "        return y"
   ]
  },
  {
   "cell_type": "markdown",
   "metadata": {},
   "source": [
    "## 3. max_of_three( ) "
   ]
  },
  {
   "cell_type": "code",
   "execution_count": 13,
   "metadata": {
    "collapsed": false
   },
   "outputs": [
    {
     "data": {
      "text/plain": [
       "3"
      ]
     },
     "execution_count": 13,
     "metadata": {},
     "output_type": "execute_result"
    }
   ],
   "source": [
    "def max_of_three(x,y,z):\n",
    "    \"\"\"\n",
    "    The max_of_three function takes three numbers x, y, and z as parameters\n",
    "    and returns the largest of the three. \n",
    "    \"\"\"\n",
    "    if x>y and x>z: #Checks if x is the largest of the three and returns \n",
    "        return x    #x if so. \n",
    "    if y>x and y>z: #Checks if y is the largest of the three and returns \n",
    "        return y    #y if so. \n",
    "    if x==y and z<x: #Checks if x and y are tied as the largest number \n",
    "        return x     #and returns x if so. \n",
    "    else: #If the three conditions returned False. Either z>x and z>y, \n",
    "        #or x=y=z. This means we can return z as the output. \n",
    "        return z\n",
    "    \n",
    "max_of_three(3,3,2)"
   ]
  },
  {
   "cell_type": "markdown",
   "metadata": {},
   "source": [
    "## 4. mylen( ) "
   ]
  },
  {
   "cell_type": "code",
   "execution_count": 16,
   "metadata": {
    "collapsed": false
   },
   "outputs": [],
   "source": [
    "def mylen(s):\n",
    "    \"\"\"\n",
    "    The mylen function takes a string s as a parameter and returns the \n",
    "    the length of s as an output. \n",
    "    \"\"\"\n",
    "    length = 0 #Creates a variable length that will ultimately be returned \n",
    "    #as the length of s. \n",
    "    for i in s: #For every element in s\n",
    "        length += 1 #length is increased by 1. \n",
    "    return length "
   ]
  },
  {
   "cell_type": "markdown",
   "metadata": {},
   "source": [
    "## 5. vowel( )"
   ]
  },
  {
   "cell_type": "code",
   "execution_count": 17,
   "metadata": {
    "collapsed": false
   },
   "outputs": [],
   "source": [
    "def vowel(c):\n",
    "    \"\"\"\n",
    "    The vowel function takes a string of one character c and returns True if it is a\n",
    "    vowel, and False otherwise. \n",
    "    \"\"\"\n",
    "    vowel_list = ['a','e','i','o','u'] #Creates a list of vowels to check against c.\n",
    "    if c in vowel_list: #Checks if c is in the vowel list, i.e. whether c is a vowel. \n",
    "        return True #Returns True if yes. \n",
    "    else: #We return False if c is not a vowel. \n",
    "        return False \n"
   ]
  },
  {
   "cell_type": "markdown",
   "metadata": {
    "collapsed": true
   },
   "source": [
    "## 6. translate( )"
   ]
  },
  {
   "cell_type": "code",
   "execution_count": 7,
   "metadata": {
    "collapsed": false
   },
   "outputs": [
    {
     "data": {
      "text/plain": [
       "'tothohisos isos fofunon'"
      ]
     },
     "execution_count": 7,
     "metadata": {},
     "output_type": "execute_result"
    }
   ],
   "source": [
    "def translate(s):\n",
    "    \"\"\"\n",
    "    The translate function takes a string s as a parameter and translates\n",
    "    it into \"robber's language\". I.E. every consonant is doubled and an \n",
    "    \"o\" is placed in between. \n",
    "    \"\"\"\n",
    "    vowel_list = ['a','e','i','o','u', ' '] #Creates a vowel list to \n",
    "        #compare against every character of s. This lists includes \n",
    "        #the empty string ' ' because we do not want to duplicate \n",
    "        #empty spaces. \n",
    "    robber_string = '' #Creates a robber_string, which will be appended \n",
    "        #and ultimately returned as the output of the function. \n",
    "    for i in s: #Goes through every element in s. \n",
    "        if i in vowel_list: #If an element can be found in the vowel list\n",
    "                                #i.e. if it is a vowel or a blank space, \n",
    "            robber_string += i #it will get added to the robber_string \n",
    "        else: #If an element is not in the vowel list, i.e. if it is a \n",
    "            robber_string += i+'o'+i #consonant, add two of them to \n",
    "                                     #the robber string with 'o' in between.\n",
    "    return robber_string #Now we can return the robber string, which is a \n",
    "                        #translated version of the string s. \n",
    "\n",
    "translate(\"this is fun\")\n",
    "\n",
    "                            "
   ]
  },
  {
   "cell_type": "markdown",
   "metadata": {
    "collapsed": true
   },
   "source": [
    "## 7. sum( ) and multiply( )"
   ]
  },
  {
   "cell_type": "code",
   "execution_count": 3,
   "metadata": {
    "collapsed": false
   },
   "outputs": [
    {
     "data": {
      "text/plain": [
       "120"
      ]
     },
     "execution_count": 3,
     "metadata": {},
     "output_type": "execute_result"
    }
   ],
   "source": [
    "def sum(a):\n",
    "    \"\"\"\n",
    "    The sum function takes in a list of numbers a as a parameter and \n",
    "    returns the sum of all numbers within that list.\n",
    "    \"\"\"\n",
    "    total = 0 #Defines a number total which will be returned as the \n",
    "    #output.\n",
    "    \n",
    "    for i in a: #Goes through the list a and adds each element to \n",
    "        total += i #the value of total. \n",
    "        \n",
    "    return total #Returns the value of total as the output. \n",
    "\n",
    "def multiply(a):\n",
    "    \"\"\"\n",
    "    The multiply function takes a list of numbers a as an parameter, \n",
    "    and returns the product of all numbers within that list. \n",
    "    \"\"\"\n",
    "    product = 1 #Defines a number product which will be returned as \n",
    "    #the output. \n",
    "    \n",
    "    for i in a: #Goes through the list a and multiplies each element \n",
    "        product = product * i #to the value of product. \n",
    "        \n",
    "    return product #Returns the value of product as the output. \n",
    "    \n",
    "    "
   ]
  },
  {
   "cell_type": "markdown",
   "metadata": {},
   "source": [
    "## 8. reverse( ) "
   ]
  },
  {
   "cell_type": "code",
   "execution_count": 2,
   "metadata": {
    "collapsed": false
   },
   "outputs": [],
   "source": [
    "def reverse(s):\n",
    "    \"\"\"\n",
    "    The reverse function takes a string s as a parameter and returns \n",
    "    the reversal of that string as an output. \n",
    "    \"\"\"\n",
    "    flipped_string = \"\" #Creates an empty string flipped_string which \n",
    "    #will be appended and returned as the output. \n",
    "    \n",
    "    for i in s: #Goes through the string s one element at a time and \n",
    "        flipped_string = i + flipped_string #adds each element to the \n",
    "        #beginning of flipped_string. This results in flipped_string \n",
    "        #being the mirror image of the input s. \n",
    "        \n",
    "    return flipped_string #Returns flipped_string as an output. \n",
    "\n"
   ]
  },
  {
   "cell_type": "markdown",
   "metadata": {},
   "source": [
    "## 9. is_palindrome( ) "
   ]
  },
  {
   "cell_type": "code",
   "execution_count": 10,
   "metadata": {
    "collapsed": false
   },
   "outputs": [],
   "source": [
    "def is_palindrome(s):\n",
    "    \"\"\"\n",
    "    A palindrome is a word that looks the same when written backwards. \n",
    "    The function is_palindrome takes a string s as an input and \n",
    "    determines whether or not s is a palindrome. If s is a palindrome, \n",
    "    the function outputs True. If not, it outputs False. \n",
    "    \"\"\"\n",
    "    return reverse(s) == s #The reverse function, defined above, \n",
    "    #takes a string and returns it backwards. If a string s is a \n",
    "    #palindrome, it will be the same as the output of reverse(s). \n",
    "    #This line checks if the two are equal, and returns the \n",
    "    #appropriate Boolean value. \n",
    "        "
   ]
  },
  {
   "cell_type": "markdown",
   "metadata": {},
   "source": [
    "## 10. Write a function is_member( ) that takes a value (i.e. a number, string, etc) x and a list of values a, and returns True if x is a member of a, False otherwise. "
   ]
  },
  {
   "cell_type": "code",
   "execution_count": 14,
   "metadata": {
    "collapsed": false
   },
   "outputs": [
    {
     "data": {
      "text/plain": [
       "False"
      ]
     },
     "execution_count": 14,
     "metadata": {},
     "output_type": "execute_result"
    }
   ],
   "source": [
    "def is_member(x,a):\n",
    "    \"\"\"\n",
    "    The is_member function takes a value x and a list of values a, \n",
    "    and determines whether or not x is a member of a. The function \n",
    "    returns either True or False accordingly. \n",
    "    \"\"\"\n",
    "    for i in a: #Goes through the list of items a one at a time. \n",
    "        if x == i: #Checks if the current item in a is the same as x. \n",
    "            return True #If so, then x is a member of a and the function\n",
    "                        #returns True. \n",
    "    return False #This will return False only if none of the items in a \n",
    "    #are equal to x. \n"
   ]
  },
  {
   "cell_type": "markdown",
   "metadata": {},
   "source": [
    "## 11. Define a function overlapping(a,b) that takes two lists and returns True if they have at least one member in common, False otherwise. You may use your is_member( ) function, or the in operator, but for the sake of the exercise, you should (also) write it using two nested for_loops. "
   ]
  },
  {
   "cell_type": "code",
   "execution_count": 19,
   "metadata": {
    "collapsed": false
   },
   "outputs": [],
   "source": [
    "def overlapping(a,b):\n",
    "    '''\n",
    "    The overlapping functions takes two lists a and b as parameters. \n",
    "    If the two have at least one member in common, True is returned \n",
    "    as an output. Otherwise, the function returns False. \n",
    "    '''\n",
    "    for i in a: #Goes through every member in a individually. \n",
    "        for j in b: #For each individual member of a, goes through\n",
    "            #each member of b. \n",
    "            if i == j: #If the current member of list a is the same as \n",
    "                #the current member of b, the function will return True, \n",
    "                #as they have at least one member in common. \n",
    "                return True \n",
    "            \n",
    "    return False #The function will return False only if none of the \n",
    "    #possible pairs of elements from a and b were found to be identical. \n",
    "\n"
   ]
  },
  {
   "cell_type": "markdown",
   "metadata": {},
   "source": [
    "## 12. Define a function generate_n_chars( ) that takes an integer n and a character c and returns a string, n characters long, consisting only of c's. "
   ]
  },
  {
   "cell_type": "code",
   "execution_count": 22,
   "metadata": {
    "collapsed": false
   },
   "outputs": [],
   "source": [
    "def generate_n_chars(n,c):\n",
    "    '''\n",
    "    The generate_n_chars function will take as an input the number n \n",
    "    and the character c. A string of length n consisting of the \n",
    "    character c will be returned as an output. \n",
    "    '''\n",
    "    generated = '' #Creates a string generated, which will be appended \n",
    "    #and ultimately returned as the output. \n",
    "    while len(generated)<n: #Checks that generated has not yet reached n \n",
    "        #characters. \n",
    "        generated += c #Adds the character c to the string generated. \n",
    "    return generated #Once the string generated has been appended to \n",
    "    #include n instances of the character c, it is returned as the \n",
    "    #output of the function. \n",
    "\n",
    "        \n",
    "    "
   ]
  },
  {
   "cell_type": "code",
   "execution_count": null,
   "metadata": {
    "collapsed": true
   },
   "outputs": [],
   "source": []
  }
 ],
 "metadata": {
  "kernelspec": {
   "display_name": "Python 3",
   "language": "python",
   "name": "python3"
  },
  "language_info": {
   "codemirror_mode": {
    "name": "ipython",
    "version": 3
   },
   "file_extension": ".py",
   "mimetype": "text/x-python",
   "name": "python",
   "nbconvert_exporter": "python",
   "pygments_lexer": "ipython3",
   "version": "3.4.3"
  }
 },
 "nbformat": 4,
 "nbformat_minor": 0
}
